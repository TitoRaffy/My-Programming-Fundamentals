{
  "nbformat": 4,
  "nbformat_minor": 0,
  "metadata": {
    "colab": {
      "provenance": [],
      "authorship_tag": "ABX9TyNcR+7PfdpdqYq8ihSgfRVg",
      "include_colab_link": true
    },
    "kernelspec": {
      "name": "python3",
      "display_name": "Python 3"
    },
    "language_info": {
      "name": "python"
    }
  },
  "cells": [
    {
      "cell_type": "markdown",
      "metadata": {
        "id": "view-in-github",
        "colab_type": "text"
      },
      "source": [
        "<a href=\"https://colab.research.google.com/github/TitoRaffy/My-Programming-Fundamentals/blob/main/Vending%20Machine/Vending_Machine__Trial_and_error(did_not_work).ipynb\" target=\"_parent\"><img src=\"https://colab.research.google.com/assets/colab-badge.svg\" alt=\"Open In Colab\"/></a>"
      ]
    },
    {
      "cell_type": "code",
      "execution_count": null,
      "metadata": {
        "id": "pmHkmSw7e5ow"
      },
      "outputs": [],
      "source": [
        "def order():\n",
        "    while True:\n",
        "        totalFood=0\n",
        "        print(\"   ---- Welcome to the vending machine ---- \"),\n",
        "        print(\" <==========================================>   \")\n",
        "        print(\"Here's the menu!\")\n",
        "        print(\"Food\t\tPrices (AED) || Drinks\t        Prices (AED)\")\n",
        "        print(\"1. Ferrero\t5      || 1. Pepsi\t\t3.5\t\")\n",
        "        print(\"2. Hersheys\t3      || 2. Mogumogu\t\t2.5\t\")\n",
        "        print(\"3. Reeses\t4      || 3. Water\t        0.5\t\")\n",
        "        print(\"4. Snickers\t2.5    || 4. Mountain Dew\t3.5\t\")\n",
        "        print(\"5. Maltesers\t2.5    || 5. Milk Tea\t\t12\t\")\n",
        "        print(\"6. M&Ms\t        3.5    || 6. Hot Choco\t\t2.5\t\") \n",
        "        choice = input(\"\\nWant Snacks? Press F for the Food Section. Want Drinks? Press D for the Drinks Section: \")\n",
        "        print(\"============================================================================================\")\n",
        "        if choice.lower() or choice.upper() == \"f\":\n",
        "            print(\"You have selected Food\")\n",
        "            Prod_number = int(input(\"Please select the food according to its product number: \"))       \n",
        "            if Prod_number == 1:\n",
        "                print(\"You have selected Ferrero\")\n",
        "                quantity = int(input(\"How many Ferrero would you like?:\"))\n",
        "                totalFood = float(quantity*5)\n",
        "                print(\"Your total is\", totalFood)\n",
        "                \n",
        "                again = input(\"Would you like to order again? (yes/no)\")\n",
        "                if again.lower() == \"no\":\n",
        "                   break\n",
        "                if again.lower() == 'yes':\n",
        "                   \n",
        "                money = float(input(\"Please enter the amount of money you would like to pay: \"))\n",
        "                change = money - totalFood\n",
        "        \n",
        "order()"
      ]
    }
  ]
}