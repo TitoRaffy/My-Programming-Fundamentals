{
  "nbformat": 4,
  "nbformat_minor": 0,
  "metadata": {
    "colab": {
      "provenance": [],
      "authorship_tag": "ABX9TyM1KwABDcWm+xFQfRcYDWM3",
      "include_colab_link": true
    },
    "kernelspec": {
      "name": "python3",
      "display_name": "Python 3"
    },
    "language_info": {
      "name": "python"
    }
  },
  "cells": [
    {
      "cell_type": "markdown",
      "metadata": {
        "id": "view-in-github",
        "colab_type": "text"
      },
      "source": [
        "<a href=\"https://colab.research.google.com/github/TitoRaffy/My-Programming-Fundamentals/blob/main/Extra_Exercises/Extra_5.ipynb\" target=\"_parent\"><img src=\"https://colab.research.google.com/assets/colab-badge.svg\" alt=\"Open In Colab\"/></a>"
      ]
    },
    {
      "cell_type": "code",
      "execution_count": 5,
      "metadata": {
        "colab": {
          "base_uri": "https://localhost:8080/"
        },
        "id": "jGCTP7SFfFWY",
        "outputId": "909e10e9-bf00-466f-88f7-dedaeeebf1eb"
      },
      "outputs": [
        {
          "output_type": "stream",
          "name": "stdout",
          "text": [
            "False\n",
            "True\n",
            "False\n"
          ]
        }
      ],
      "source": [
        "# Just storing different data types in a variable\n",
        "x1 = 5\n",
        "y1 = 5\n",
        "x2 = 'hello'\n",
        "y2 = 'hello'\n",
        "x3 = [1,2,3]\n",
        "y3 = [1,2,3]\n",
        " \n",
        " # The output here False\n",
        "print(x1 is not y1)\n",
        "\n",
        " # The output here is True\n",
        "print(x2 is y2)\n",
        "\n",
        " # The output here is False\n",
        "print(x3 is y3)"
      ]
    }
  ]
}