{
  "nbformat": 4,
  "nbformat_minor": 0,
  "metadata": {
    "colab": {
      "provenance": [],
      "authorship_tag": "ABX9TyNbhHcts6z6TUg6zc19Zt9z",
      "include_colab_link": true
    },
    "kernelspec": {
      "name": "python3",
      "display_name": "Python 3"
    },
    "language_info": {
      "name": "python"
    }
  },
  "cells": [
    {
      "cell_type": "markdown",
      "metadata": {
        "id": "view-in-github",
        "colab_type": "text"
      },
      "source": [
        "<a href=\"https://colab.research.google.com/github/TitoRaffy/My-Programming-Fundamentals/blob/main/Extra_Exercises/Extra_4.ipynb\" target=\"_parent\"><img src=\"https://colab.research.google.com/assets/colab-badge.svg\" alt=\"Open In Colab\"/></a>"
      ]
    },
    {
      "cell_type": "code",
      "execution_count": 4,
      "metadata": {
        "colab": {
          "base_uri": "https://localhost:8080/"
        },
        "id": "jGCTP7SFfFWY",
        "outputId": "e866e02a-93c1-41fe-e1da-973174a13804"
      },
      "outputs": [
        {
          "output_type": "stream",
          "name": "stdout",
          "text": [
            "Length: 10\n",
            "Width: 25\n",
            "area of rectangle:  250\n",
            "perimeter of rectangle:  70\n"
          ]
        }
      ],
      "source": [
        "# using a user defined input to get the length and the width \n",
        "L=int(input(\"Length: \"))\n",
        "W=int(input(\"Width: \"))\n",
        "\n",
        "# And this is code that calculates the area and perimeter\n",
        "area=L*W\n",
        "perimeter=2*(L+W)\n",
        "print(\"area of the rectangle: \", area)\n",
        "print(\"perimeter of the rectangle: \", perimeter)\n"
      ]
    }
  ]
}