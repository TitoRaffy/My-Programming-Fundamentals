{
  "nbformat": 4,
  "nbformat_minor": 0,
  "metadata": {
    "colab": {
      "provenance": [],
      "authorship_tag": "ABX9TyOEs6/C+ndiASHRuVKQWo+x",
      "include_colab_link": true
    },
    "kernelspec": {
      "name": "python3",
      "display_name": "Python 3"
    },
    "language_info": {
      "name": "python"
    }
  },
  "cells": [
    {
      "cell_type": "markdown",
      "metadata": {
        "id": "view-in-github",
        "colab_type": "text"
      },
      "source": [
        "<a href=\"https://colab.research.google.com/github/TitoRaffy/My-Programming-Fundamentals/blob/main/Extra_Exercises/Extra_2.ipynb\" target=\"_parent\"><img src=\"https://colab.research.google.com/assets/colab-badge.svg\" alt=\"Open In Colab\"/></a>"
      ]
    },
    {
      "cell_type": "code",
      "execution_count": 2,
      "metadata": {
        "colab": {
          "base_uri": "https://localhost:8080/"
        },
        "id": "jGCTP7SFfFWY",
        "outputId": "22703e16-fc89-4e50-b0a2-6791d8128780"
      },
      "outputs": [
        {
          "output_type": "stream",
          "name": "stdout",
          "text": [
            "Enter 2 numbers: \n",
            "50\n",
            "5\n",
            "The addition of 50 and 5 is 55\n",
            "The subtraction of 50 and 5 is 45\n",
            "The multiplication of 50 and 5 is 250\n",
            "The division of 50 and 5 is 10.0\n",
            "The modulus of 50 and 5 is 0\n",
            "The power of 50 and 5 is 312500000\n"
          ]
        }
      ],
      "source": [
        "# Enter 2 numbers according to your liking\n",
        "print('Enter 2 numbers: ')\n",
        "a=int(input())\n",
        "b=int(input())\n",
        "\n",
        "# Now, entering 2 numbers will automatically be calculated \n",
        "\n",
        "# These are the different calculations used for the 2 numbers that you have entered\n",
        "print('The addition of '+str(a)+' and '+str(b)+' is '+str(a+b))\n",
        "print('The subtraction of '+str(a)+' and '+str(b)+' is '+str(a-b))\n",
        "print('The multiplication of '+str(a)+' and '+str(b)+' is '+str(a*b))\n",
        "print('The division of '+str(a)+' and '+str(b)+' is '+str(a/b))\n",
        "print('The modulus of '+str(a)+' and '+str(b)+' is '+str(a%b))\n",
        "print('The power of '+str(a)+' and '+str(b)+' is '+str(a**b))\n"
      ]
    }
  ]
}