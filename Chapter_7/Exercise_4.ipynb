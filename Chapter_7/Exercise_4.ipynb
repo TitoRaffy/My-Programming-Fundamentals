{
  "nbformat": 4,
  "nbformat_minor": 0,
  "metadata": {
    "colab": {
      "provenance": [],
      "authorship_tag": "ABX9TyMnfU0OiPBs/wvWdhcBi1rU",
      "include_colab_link": true
    },
    "kernelspec": {
      "name": "python3",
      "display_name": "Python 3"
    },
    "language_info": {
      "name": "python"
    }
  },
  "cells": [
    {
      "cell_type": "markdown",
      "metadata": {
        "id": "view-in-github",
        "colab_type": "text"
      },
      "source": [
        "<a href=\"https://colab.research.google.com/github/TitoRaffy/My-Programming-Fundamentals/blob/main/Chapter_7/Exercise_4.ipynb\" target=\"_parent\"><img src=\"https://colab.research.google.com/assets/colab-badge.svg\" alt=\"Open In Colab\"/></a>"
      ]
    },
    {
      "cell_type": "code",
      "execution_count": 47,
      "metadata": {
        "colab": {
          "base_uri": "https://localhost:8080/"
        },
        "id": "5MaOz_blPwDV",
        "outputId": "76726b6c-dd63-4570-f889-e2bd2847e543"
      },
      "outputs": [
        {
          "output_type": "stream",
          "name": "stdout",
          "text": [
            "The Size is: Large \n",
            "And the message printed on it is, I love programming!\n",
            "The Size is: Medium \n",
            "And the message printed on it is, I love programming!\n",
            "The Size is: Small \n",
            "And the message printed on it is,I love mangos\n"
          ]
        }
      ],
      "source": [
        "# This time I made the parameters have a default value \n",
        "def make_shirt(Size = \"Large\", Text = \" I love programming!\"):\n",
        "  print(\"The Size is: \" +  Size + \" \\nAnd the message printed on it is,\" + Text)\n",
        "\n",
        "make_shirt()\n",
        "make_shirt(Size = \"Medium\")\n",
        "make_shirt(Size = \"Small\", Text = \"I love mangos\")\n"
      ]
    },
    {
      "cell_type": "code",
      "source": [],
      "metadata": {
        "id": "5ZbuJ3Sbjyum"
      },
      "execution_count": null,
      "outputs": []
    },
    {
      "cell_type": "code",
      "source": [],
      "metadata": {
        "id": "iM4MWurwkJum"
      },
      "execution_count": null,
      "outputs": []
    }
  ]
}