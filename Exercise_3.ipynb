{
  "nbformat": 4,
  "nbformat_minor": 0,
  "metadata": {
    "colab": {
      "provenance": [],
      "authorship_tag": "ABX9TyOPYNowBKH9B3Pmv5jLNLdi",
      "include_colab_link": true
    },
    "kernelspec": {
      "name": "python3",
      "display_name": "Python 3"
    },
    "language_info": {
      "name": "python"
    }
  },
  "cells": [
    {
      "cell_type": "markdown",
      "metadata": {
        "id": "view-in-github",
        "colab_type": "text"
      },
      "source": [
        "<a href=\"https://colab.research.google.com/github/TitoRaffy/My-Programming-Fundamentals/blob/main/Exercise_3.ipynb\" target=\"_parent\"><img src=\"https://colab.research.google.com/assets/colab-badge.svg\" alt=\"Open In Colab\"/></a>"
      ]
    },
    {
      "cell_type": "code",
      "execution_count": null,
      "metadata": {
        "id": "ALLu6gZ8DLts"
      },
      "outputs": [],
      "source": [
        "glossary = {\n",
        "    \"Ordinal\": \"An ordinal number is a type of number that is used to represent the position or rank of an object or a person.\",\n",
        "    \"Binary\": \"relating to, composed of, or involving two things.\",\n",
        "    \"Else\": \"It could mean different or instead.\",\n",
        "    \"While\": \"during the time that; at the same time.\",\n",
        "    \"Print\": \"write (text) clearly without joining the letters together\"\n",
        "}\n",
        "\n",
        "for keys, values in glossary:\n",
        "  print()"
      ]
    }
  ]
}