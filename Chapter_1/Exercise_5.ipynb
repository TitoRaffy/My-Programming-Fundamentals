{
  "nbformat": 4,
  "nbformat_minor": 0,
  "metadata": {
    "colab": {
      "provenance": [],
      "authorship_tag": "ABX9TyNau6p7fUZWv8+cRPcIxspl",
      "include_colab_link": true
    },
    "kernelspec": {
      "name": "python3",
      "display_name": "Python 3"
    },
    "language_info": {
      "name": "python"
    }
  },
  "cells": [
    {
      "cell_type": "markdown",
      "metadata": {
        "id": "view-in-github",
        "colab_type": "text"
      },
      "source": [
        "<a href=\"https://colab.research.google.com/github/TitoRaffy/My-Programming-Fundamentals/blob/main/Chapter_1/Exercise_5.ipynb\" target=\"_parent\"><img src=\"https://colab.research.google.com/assets/colab-badge.svg\" alt=\"Open In Colab\"/></a>"
      ]
    },
    {
      "cell_type": "code",
      "execution_count": 54,
      "metadata": {
        "colab": {
          "base_uri": "https://localhost:8080/"
        },
        "id": "5MaOz_blPwDV",
        "outputId": "e274e5b2-81f0-4121-b73f-6d2a83b8b708"
      },
      "outputs": [
        {
          "output_type": "stream",
          "name": "stdout",
          "text": [
            "enter the radius of a circle:5\n",
            "area of a circle = 78.50\n"
          ]
        }
      ],
      "source": [
        "# I calculated the area of the circle using the float function\n",
        "pi = 3.14\n",
        "r = float(input(\"enter the radius of a circle:\"))\n",
        "area = pi*r*r\n",
        "print(\"area of a circle = %.2f\" %area)\n",
        "\n"
      ]
    },
    {
      "cell_type": "code",
      "source": [],
      "metadata": {
        "id": "5ZbuJ3Sbjyum"
      },
      "execution_count": null,
      "outputs": []
    },
    {
      "cell_type": "code",
      "source": [],
      "metadata": {
        "id": "iM4MWurwkJum"
      },
      "execution_count": null,
      "outputs": []
    }
  ]
}