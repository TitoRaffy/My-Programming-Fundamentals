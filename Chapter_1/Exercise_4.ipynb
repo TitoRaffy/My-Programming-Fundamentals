{
  "nbformat": 4,
  "nbformat_minor": 0,
  "metadata": {
    "colab": {
      "provenance": [],
      "authorship_tag": "ABX9TyNaDbk2CRKaKSct/RGtyJ/7",
      "include_colab_link": true
    },
    "kernelspec": {
      "name": "python3",
      "display_name": "Python 3"
    },
    "language_info": {
      "name": "python"
    }
  },
  "cells": [
    {
      "cell_type": "markdown",
      "metadata": {
        "id": "view-in-github",
        "colab_type": "text"
      },
      "source": [
        "<a href=\"https://colab.research.google.com/github/TitoRaffy/My-Programming-Fundamentals/blob/main/Chapter_1/Exercise_4.ipynb\" target=\"_parent\"><img src=\"https://colab.research.google.com/assets/colab-badge.svg\" alt=\"Open In Colab\"/></a>"
      ]
    },
    {
      "cell_type": "code",
      "execution_count": 1,
      "metadata": {
        "colab": {
          "base_uri": "https://localhost:8080/"
        },
        "id": "g7Dzkuum93Xd",
        "outputId": "3c283bc9-b9d2-4a84-c566-d87cf3a8de18"
      },
      "outputs": [
        {
          "output_type": "stream",
          "name": "stdout",
          "text": [
            "I Like Playing Instruments\n",
            "I Like Basketball\n",
            "I enjoy Programming\n"
          ]
        }
      ],
      "source": [
        "a, b, c = (\"I Like Playing Instruments\"), (\"I Like Basketball\"), (\"I enjoy Programming\")\n",
        "print(a) # I Like Playing Instruments\n",
        "print(b) # I Like Basketball\n",
        "print(c) # I enjoy Programming"
      ]
    }
  ]
}