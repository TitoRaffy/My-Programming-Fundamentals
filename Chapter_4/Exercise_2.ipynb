{
  "nbformat": 4,
  "nbformat_minor": 0,
  "metadata": {
    "colab": {
      "provenance": [],
      "authorship_tag": "ABX9TyPJbSt6/waQTr/WKKJrgFKd",
      "include_colab_link": true
    },
    "kernelspec": {
      "name": "python3",
      "display_name": "Python 3"
    },
    "language_info": {
      "name": "python"
    }
  },
  "cells": [
    {
      "cell_type": "markdown",
      "metadata": {
        "id": "view-in-github",
        "colab_type": "text"
      },
      "source": [
        "<a href=\"https://colab.research.google.com/github/TitoRaffy/My-Programming-Fundamentals/blob/main/Chapter_4/Exercise_2.ipynb\" target=\"_parent\"><img src=\"https://colab.research.google.com/assets/colab-badge.svg\" alt=\"Open In Colab\"/></a>"
      ]
    },
    {
      "cell_type": "code",
      "execution_count": 60,
      "metadata": {
        "colab": {
          "base_uri": "https://localhost:8080/"
        },
        "id": "5MaOz_blPwDV",
        "outputId": "4579b062-2c37-4333-c6d4-2a7be4ffc559"
      },
      "outputs": [
        {
          "output_type": "stream",
          "name": "stdout",
          "text": [
            "You just shot down an alien.\n",
            "So, What color was the alien that you shot down?\n",
            "Green, Yellow, or Redyellow\n",
            "10+ points\n"
          ]
        }
      ],
      "source": [
        "# Hitting Green still gives you 5 points, while hitting anything else other than green is 10+ points\n",
        "\n",
        "print(\"You just shot down an alien.\")\n",
        "print(\"So, What color was the alien that you shot down?\")\n",
        "alien_color=str(input(\"Green, Yellow, or Red\"))\n",
        "\n",
        "if alien_color == \"Green\": \n",
        "  print(\"5+ points\")\n",
        "\n",
        "# Hitting the yellow or red alien gets you 10+ points!\n",
        "elif alien_color == \"Yellow\" or \"Red\":\n",
        "  print(\"10+ points\")\n",
        "\n",
        "else:\n",
        "  print(\"Hit Yellow or Red you get 10!\")"
      ]
    },
    {
      "cell_type": "code",
      "source": [],
      "metadata": {
        "id": "iM4MWurwkJum"
      },
      "execution_count": null,
      "outputs": []
    }
  ]
}