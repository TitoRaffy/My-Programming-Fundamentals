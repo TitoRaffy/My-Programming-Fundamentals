{
  "nbformat": 4,
  "nbformat_minor": 0,
  "metadata": {
    "colab": {
      "provenance": [],
      "authorship_tag": "ABX9TyOqDx0ZwbEd+ovk4ZFaCrfE",
      "include_colab_link": true
    },
    "kernelspec": {
      "name": "python3",
      "display_name": "Python 3"
    },
    "language_info": {
      "name": "python"
    }
  },
  "cells": [
    {
      "cell_type": "markdown",
      "metadata": {
        "id": "view-in-github",
        "colab_type": "text"
      },
      "source": [
        "<a href=\"https://colab.research.google.com/github/TitoRaffy/My-Programming-Fundamentals/blob/main/Chapter_4/Exercise_4.ipynb\" target=\"_parent\"><img src=\"https://colab.research.google.com/assets/colab-badge.svg\" alt=\"Open In Colab\"/></a>"
      ]
    },
    {
      "cell_type": "code",
      "execution_count": 63,
      "metadata": {
        "colab": {
          "base_uri": "https://localhost:8080/"
        },
        "id": "5MaOz_blPwDV",
        "outputId": "867b742e-07ce-45bf-bfbf-0ed3a2f88dbe"
      },
      "outputs": [
        {
          "output_type": "stream",
          "name": "stdout",
          "text": [
            "You just shot down an alien.\n",
            "So, What color was the alien that you shot down?\n",
            "Green, Yellow, or RedRed\n",
            "15+ points\n"
          ]
        }
      ],
      "source": [
        "# This will determine your age and where u are in life right now\n",
        "\n",
        "print(\"Enter your age to determine your stage in life\")\n",
        "\n",
        "age = int(input(\"Enter your age: \"))\n",
        "\n",
        "if age < 2:\n",
        "  print(\"You are still little a baby\")\n",
        "\n",
        "elif age < 4:\n",
        "  print(\"You are a toddler\")\n",
        "\n",
        "elif age < 13:\n",
        "  print(\"You are still a kid\")\n",
        "\n",
        "elif age < 20:\n",
        "  print(\"You are in the teenage phase\")\n",
        "\n",
        "elif age < 65:\n",
        "  print(\"You are a grown adult\")\n",
        "\n",
        "elif age > 65:\n",
        "  print(\"You are in the elderly phase\")"
      ]
    },
    {
      "cell_type": "code",
      "source": [],
      "metadata": {
        "id": "iM4MWurwkJum"
      },
      "execution_count": null,
      "outputs": []
    }
  ]
}