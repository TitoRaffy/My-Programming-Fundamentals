{
  "nbformat": 4,
  "nbformat_minor": 0,
  "metadata": {
    "colab": {
      "provenance": [],
      "authorship_tag": "ABX9TyObp/Pm1oQOPKFRfFfNSGKS",
      "include_colab_link": true
    },
    "kernelspec": {
      "name": "python3",
      "display_name": "Python 3"
    },
    "language_info": {
      "name": "python"
    }
  },
  "cells": [
    {
      "cell_type": "markdown",
      "metadata": {
        "id": "view-in-github",
        "colab_type": "text"
      },
      "source": [
        "<a href=\"https://colab.research.google.com/github/TitoRaffy/My-Programming-Fundamentals/blob/main/Chapter_4/Exercise_3.ipynb\" target=\"_parent\"><img src=\"https://colab.research.google.com/assets/colab-badge.svg\" alt=\"Open In Colab\"/></a>"
      ]
    },
    {
      "cell_type": "code",
      "execution_count": 63,
      "metadata": {
        "colab": {
          "base_uri": "https://localhost:8080/"
        },
        "id": "5MaOz_blPwDV",
        "outputId": "867b742e-07ce-45bf-bfbf-0ed3a2f88dbe"
      },
      "outputs": [
        {
          "output_type": "stream",
          "name": "stdout",
          "text": [
            "You just shot down an alien.\n",
            "So, What color was the alien that you shot down?\n",
            "Green, Yellow, or RedRed\n",
            "15+ points\n"
          ]
        }
      ],
      "source": [
        "# All the alien now have their individual points\n",
        "print(\"You just shot down an alien.\")\n",
        "print(\"So, What color was the alien that you shot down?\")\n",
        "alien_color=str(input(\"Green, Yellow, or Red\"))\n",
        "\n",
        "if alien_color == \"Green\": \n",
        "  print(\"5+ points\")\n",
        "\n",
        "elif alien_color == \"Yellow\":\n",
        "  print(\"10+ points\")\n",
        "# The red alien is a bonus alien\n",
        "elif alien_color == \"Red\":\n",
        "  print(\"15+ points\")\n",
        "\n",
        "else:\n",
        "  print(\"If you don't Hit anything, Khalas!\")"
      ]
    },
    {
      "cell_type": "code",
      "source": [],
      "metadata": {
        "id": "iM4MWurwkJum"
      },
      "execution_count": null,
      "outputs": []
    }
  ]
}