{
  "nbformat": 4,
  "nbformat_minor": 0,
  "metadata": {
    "colab": {
      "provenance": [],
      "authorship_tag": "ABX9TyP6rEArE/zchTdy8zeNjAVi",
      "include_colab_link": true
    },
    "kernelspec": {
      "name": "python3",
      "display_name": "Python 3"
    },
    "language_info": {
      "name": "python"
    }
  },
  "cells": [
    {
      "cell_type": "markdown",
      "metadata": {
        "id": "view-in-github",
        "colab_type": "text"
      },
      "source": [
        "<a href=\"https://colab.research.google.com/github/TitoRaffy/My-Programming-Fundamentals/blob/main/Chapter_2/Exercise_3.ipynb\" target=\"_parent\"><img src=\"https://colab.research.google.com/assets/colab-badge.svg\" alt=\"Open In Colab\"/></a>"
      ]
    },
    {
      "cell_type": "code",
      "execution_count": 58,
      "metadata": {
        "colab": {
          "base_uri": "https://localhost:8080/"
        },
        "id": "5MaOz_blPwDV",
        "outputId": "e8f39c74-6352-425f-987e-47fbbc2538b6"
      },
      "outputs": [
        {
          "output_type": "stream",
          "name": "stdout",
          "text": [
            "   \tAndrey Rafael  \n",
            "Agleron   \n",
            "\n",
            "\n",
            "Andrey Rafael  \n",
            "Agleron   \n",
            "   \tAndrey Rafael  \n",
            "Agleron\n",
            "Andrey Rafael  \n",
            "Agleron\n"
          ]
        }
      ],
      "source": [
        "# I used \\t and \\n to get a full understanding of the uses\n",
        "\n",
        "FullName = \"   \\tAndrey Rafael  \\nAgleron   \"\n",
        "# here \\t lets the text move a whole space, while \\n skips a whole tab\n",
        "print(FullName)\n",
        "print(\"\\n\")\n",
        "print(FullName.lstrip())\n",
        "print(FullName.rstrip())\n",
        "print(FullName.strip())"
      ]
    },
    {
      "cell_type": "code",
      "source": [],
      "metadata": {
        "id": "iM4MWurwkJum"
      },
      "execution_count": null,
      "outputs": []
    }
  ]
}