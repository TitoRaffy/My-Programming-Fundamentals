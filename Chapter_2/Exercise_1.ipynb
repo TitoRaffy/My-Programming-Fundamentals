{
  "nbformat": 4,
  "nbformat_minor": 0,
  "metadata": {
    "colab": {
      "provenance": [],
      "authorship_tag": "ABX9TyNv8jaaNry4u/Parq6pNCTy",
      "include_colab_link": true
    },
    "kernelspec": {
      "name": "python3",
      "display_name": "Python 3"
    },
    "language_info": {
      "name": "python"
    }
  },
  "cells": [
    {
      "cell_type": "markdown",
      "metadata": {
        "id": "view-in-github",
        "colab_type": "text"
      },
      "source": [
        "<a href=\"https://colab.research.google.com/github/TitoRaffy/My-Programming-Fundamentals/blob/main/Chapter_2/Exercise_1.ipynb\" target=\"_parent\"><img src=\"https://colab.research.google.com/assets/colab-badge.svg\" alt=\"Open In Colab\"/></a>"
      ]
    },
    {
      "cell_type": "code",
      "execution_count": 55,
      "metadata": {
        "colab": {
          "base_uri": "https://localhost:8080/"
        },
        "id": "5MaOz_blPwDV",
        "outputId": "74ab8d48-182d-4040-e80a-7ea682cef5a6"
      },
      "outputs": [
        {
          "output_type": "stream",
          "name": "stdout",
          "text": [
            "I love you\n",
            "But you don't\n"
          ]
        }
      ],
      "source": [
        "# I assigned a message to a variable then changed the value of that variable in to a new message\n",
        "a = \"I love you\"\n",
        "print(a)\n",
        "a = \"But you don't\"\n",
        "print(a)\n",
        "# Varibles didnt change, only the message"
      ]
    },
    {
      "cell_type": "code",
      "source": [],
      "metadata": {
        "id": "5ZbuJ3Sbjyum"
      },
      "execution_count": null,
      "outputs": []
    },
    {
      "cell_type": "code",
      "source": [],
      "metadata": {
        "id": "iM4MWurwkJum"
      },
      "execution_count": null,
      "outputs": []
    }
  ]
}