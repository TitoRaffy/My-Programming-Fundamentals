{
  "nbformat": 4,
  "nbformat_minor": 0,
  "metadata": {
    "colab": {
      "provenance": [],
      "authorship_tag": "ABX9TyMKkryGKOCQVYyVYlOwkexS",
      "include_colab_link": true
    },
    "kernelspec": {
      "name": "python3",
      "display_name": "Python 3"
    },
    "language_info": {
      "name": "python"
    }
  },
  "cells": [
    {
      "cell_type": "markdown",
      "metadata": {
        "id": "view-in-github",
        "colab_type": "text"
      },
      "source": [
        "<a href=\"https://colab.research.google.com/github/TitoRaffy/My-Programming-Fundamentals/blob/main/Chapter_3/Exercise_7.ipynb\" target=\"_parent\"><img src=\"https://colab.research.google.com/assets/colab-badge.svg\" alt=\"Open In Colab\"/></a>"
      ]
    },
    {
      "cell_type": "code",
      "execution_count": 26,
      "metadata": {
        "colab": {
          "base_uri": "https://localhost:8080/"
        },
        "id": "5MaOz_blPwDV",
        "outputId": "08cf09b9-c7de-4530-86d6-323a14419e4d"
      },
      "outputs": [
        {
          "output_type": "stream",
          "name": "stdout",
          "text": [
            "Raw order: \n",
            "['Rome', 'Amsterdam', 'Japan', 'New Zealand', 'Barcelona']\n",
            "Alphabetical order: \n",
            "['Amsterdam', 'Barcelona', 'Japan', 'New Zealand', 'Rome']\n",
            "Raw order: \n",
            "['Rome', 'Amsterdam', 'Japan', 'New Zealand', 'Barcelona']\n",
            "Reversed alpabetical order: \n",
            "['Rome', 'New Zealand', 'Japan', 'Barcelona', 'Amsterdam']\n",
            "Raw order: \n",
            "['Rome', 'Amsterdam', 'Japan', 'New Zealand', 'Barcelona']\n",
            "Reversed order: \n",
            "['Barcelona', 'New Zealand', 'Japan', 'Amsterdam', 'Rome']\n",
            "Raw order: \n",
            "['Rome', 'Amsterdam', 'Japan', 'New Zealand', 'Barcelona']\n",
            "Alphabetical order: \n",
            "['Barcelona', 'New Zealand', 'Japan', 'Amsterdam', 'Rome']\n",
            "Reversed alphabetical order: \n",
            "['Rome', 'New Zealand', 'Japan', 'Barcelona', 'Amsterdam']\n"
          ]
        }
      ],
      "source": [
        "# THese are the places that I've been dreaming to visit\n",
        "places =  [\"Rome\", \"Amsterdam\", \"Japan\", \"New Zealand\", \"Barcelona\"]\n",
        "print(\"Raw order: \")\n",
        "print(places)\n",
        "\n",
        "# This sorts the list in an alphabetical order, but still wont change the list\n",
        "\n",
        "print(\"Alphabetical order: \")\n",
        "print(sorted(places))\n",
        "\n",
        "print(\"Raw order: \")\n",
        "print(places)\n",
        "\n",
        "# The list is sorted in a reversed alphabetical order, but the list still hasn't changed\n",
        "\n",
        "print(\"Reversed alpabetical order: \")\n",
        "print(sorted(places, reverse = True))\n",
        "\n",
        "print(\"Raw order: \")\n",
        "print(places)\n",
        "\n",
        "# Switches the position of the items on the list\n",
        "\n",
        "print(\"Reversed order: \")\n",
        "places.reverse()\n",
        "print(places)\n",
        "\n",
        "# This still makes the positions switch in the list\n",
        "\n",
        "print(\"Raw order: \")\n",
        "places.reverse()\n",
        "print(places)\n",
        "\n",
        "# This one sorts the list in a alphabetical manner\n",
        "\n",
        "print(\"Alphabetical order: \")\n",
        "places.reverse()\n",
        "print(places)\n",
        "\n",
        "# And this one arranges the list in a reversed alphabetical manner\n",
        "\n",
        "print(\"Reversed alphabetical order: \")\n",
        "places.sort(reverse = True)\n",
        "print(places)\n",
        "\n",
        "\n",
        "\n"
      ]
    }
  ]
}