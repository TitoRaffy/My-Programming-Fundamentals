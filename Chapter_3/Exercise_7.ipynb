{
  "nbformat": 4,
  "nbformat_minor": 0,
  "metadata": {
    "colab": {
      "provenance": [],
      "authorship_tag": "ABX9TyMUXxB2XxJNX8gM972r+wbl",
      "include_colab_link": true
    },
    "kernelspec": {
      "name": "python3",
      "display_name": "Python 3"
    },
    "language_info": {
      "name": "python"
    }
  },
  "cells": [
    {
      "cell_type": "markdown",
      "metadata": {
        "id": "view-in-github",
        "colab_type": "text"
      },
      "source": [
        "<a href=\"https://colab.research.google.com/github/TitoRaffy/My-Programming-Fundamentals/blob/main/Chapter_3/Exercise_7.ipynb\" target=\"_parent\"><img src=\"https://colab.research.google.com/assets/colab-badge.svg\" alt=\"Open In Colab\"/></a>"
      ]
    },
    {
      "cell_type": "code",
      "execution_count": 29,
      "metadata": {
        "colab": {
          "base_uri": "https://localhost:8080/"
        },
        "id": "5MaOz_blPwDV",
        "outputId": "29f94c36-8290-4a94-8469-6fd99b40e2d4"
      },
      "outputs": [
        {
          "output_type": "stream",
          "name": "stdout",
          "text": [
            "\n",
            "Raw order:\n",
            " \n",
            "['Rome', 'Amsterdam', 'Japan', 'New Zealand', 'Barcelona']\n",
            "\n",
            "Alphabetical order:\n",
            " \n",
            "['Amsterdam', 'Barcelona', 'Japan', 'New Zealand', 'Rome']\n",
            "\n",
            "Raw order:\n",
            " \n",
            "['Rome', 'Amsterdam', 'Japan', 'New Zealand', 'Barcelona']\n",
            "\n",
            "Reversed alpabetical order:\n",
            " \n",
            "['Rome', 'New Zealand', 'Japan', 'Barcelona', 'Amsterdam']\n",
            "\n",
            "Raw order:\n",
            " \n",
            "['Rome', 'Amsterdam', 'Japan', 'New Zealand', 'Barcelona']\n",
            "\n",
            "Reversed order:\n",
            " \n",
            "['Barcelona', 'New Zealand', 'Japan', 'Amsterdam', 'Rome']\n",
            "\n",
            "Raw order:\n",
            " \n",
            "['Rome', 'Amsterdam', 'Japan', 'New Zealand', 'Barcelona']\n",
            "\n",
            "Alphabetical order:\n",
            " \n",
            "['Barcelona', 'New Zealand', 'Japan', 'Amsterdam', 'Rome']\n",
            "\n",
            "Reversed alphabetical order:\n",
            " \n",
            "['Rome', 'New Zealand', 'Japan', 'Barcelona', 'Amsterdam']\n"
          ]
        }
      ],
      "source": [
        "# THese are the places that I've been dreaming to visit\n",
        "places =  [\"Rome\", \"Amsterdam\", \"Japan\", \"New Zealand\", \"Barcelona\"]\n",
        "print(\"\\nRaw order:\\n \")\n",
        "print(places)\n",
        "\n",
        "# This sorts the list in an alphabetical order, but still wont change the list\n",
        "\n",
        "print(\"\\nAlphabetical order:\\n \")\n",
        "print(sorted(places))\n",
        "\n",
        "print(\"\\nRaw order:\\n \")\n",
        "print(places)\n",
        "\n",
        "# The list is sorted in a reversed alphabetical order, but the list still hasn't changed\n",
        "\n",
        "print(\"\\nReversed alpabetical order:\\n \")\n",
        "print(sorted(places, reverse = True))\n",
        "\n",
        "print(\"\\nRaw order:\\n \")\n",
        "print(places)\n",
        "\n",
        "# Switches the position of the items on the list\n",
        "\n",
        "print(\"\\nReversed order:\\n \")\n",
        "places.reverse()\n",
        "print(places)\n",
        "\n",
        "# This still makes the positions switch in the list\n",
        "\n",
        "print(\"\\nRaw order:\\n \")\n",
        "places.reverse()\n",
        "print(places)\n",
        "\n",
        "# This one sorts the list in a alphabetical manner\n",
        "\n",
        "print(\"\\nAlphabetical order:\\n \")\n",
        "places.reverse()\n",
        "print(places)\n",
        "\n",
        "# And this one arranges the list in a reversed alphabetical manner\n",
        "\n",
        "print(\"\\nReversed alphabetical order:\\n \")\n",
        "places.sort(reverse = True)\n",
        "print(places)\n",
        "\n",
        "\n",
        "\n"
      ]
    }
  ]
}