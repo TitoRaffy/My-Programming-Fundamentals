{
  "nbformat": 4,
  "nbformat_minor": 0,
  "metadata": {
    "colab": {
      "provenance": [],
      "authorship_tag": "ABX9TyPcj0F1op6cBOk6D6T5pPp3",
      "include_colab_link": true
    },
    "kernelspec": {
      "name": "python3",
      "display_name": "Python 3"
    },
    "language_info": {
      "name": "python"
    }
  },
  "cells": [
    {
      "cell_type": "markdown",
      "metadata": {
        "id": "view-in-github",
        "colab_type": "text"
      },
      "source": [
        "<a href=\"https://colab.research.google.com/github/TitoRaffy/My-Programming-Fundamentals/blob/main/Exercise_1.ipynb\" target=\"_parent\"><img src=\"https://colab.research.google.com/assets/colab-badge.svg\" alt=\"Open In Colab\"/></a>"
      ]
    },
    {
      "cell_type": "code",
      "execution_count": 8,
      "metadata": {
        "id": "-oCg_z_RV-a7",
        "colab": {
          "base_uri": "https://localhost:8080/"
        },
        "outputId": "8d85cf46-2dac-464d-9392-0814cd470b1a"
      },
      "outputs": [
        {
          "output_type": "stream",
          "name": "stdout",
          "text": [
            "{'first_name': 'Cybel', 'last_name': 'De Luna', 'age': '15', 'city': 'Tuguegarao'}\n",
            "\n",
            "first_name\n",
            "Cybel\n",
            "\n",
            "last_name\n",
            "De Luna\n",
            "\n",
            "age\n",
            "15\n",
            "\n",
            "city\n",
            "Tuguegarao\n"
          ]
        }
      ],
      "source": [
        "# this person is very special to me\n",
        "person = {\"first_name\": \"Cybel\", \"last_name\": \"De Luna\", \"age\": \"15\", \"city\": \"Tuguegarao\"}\n",
        "print(person)\n",
        "\n",
        "for key, value in person.items(): \n",
        " print(f\"\\n{key}\")\n",
        " print(f\"{value}\")"
      ]
    }
  ]
}