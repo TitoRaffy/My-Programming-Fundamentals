{
  "nbformat": 4,
  "nbformat_minor": 0,
  "metadata": {
    "colab": {
      "provenance": [],
      "authorship_tag": "ABX9TyPAlSy33c6V/r/93ogOIwrh",
      "include_colab_link": true
    },
    "kernelspec": {
      "name": "python3",
      "display_name": "Python 3"
    },
    "language_info": {
      "name": "python"
    }
  },
  "cells": [
    {
      "cell_type": "markdown",
      "metadata": {
        "id": "view-in-github",
        "colab_type": "text"
      },
      "source": [
        "<a href=\"https://colab.research.google.com/github/TitoRaffy/My-Programming-Fundamentals/blob/main/Chapter_6/Exercise_2.ipynb\" target=\"_parent\"><img src=\"https://colab.research.google.com/assets/colab-badge.svg\" alt=\"Open In Colab\"/></a>"
      ]
    },
    {
      "cell_type": "code",
      "execution_count": 14,
      "metadata": {
        "colab": {
          "base_uri": "https://localhost:8080/"
        },
        "id": "ALLu6gZ8DLts",
        "outputId": "eb13d4fe-5310-4b56-b3a7-4df216a97afc"
      },
      "outputs": [
        {
          "name": "stdout",
          "output_type": "stream",
          "text": [
            "Enter your age: 14\n",
            "You have to pay 15$\n",
            "Enter your age: 11\n",
            "You will be paying 10$\n",
            "Enter your age: 4\n",
            "You will be paying 10$\n",
            "Enter your age: 2\n",
            "Your ticket is free!\n",
            "Enter your age: quit\n"
          ]
        }
      ],
      "source": [
        "# Buying your movie tickets\n",
        "\n",
        "# Your age will determine the amount of money you'll be paying\n",
        "\n",
        "\n",
        "while True: \n",
        "  age = input(\"Enter your age: \")\n",
        "  if age == \"quit\": \n",
        "    break \n",
        "  else:\n",
        "    age = int(age) \n",
        "    if age < 3:\n",
        "      print(\"Your ticket is free!\")\n",
        "\n",
        "    elif age < 12:\n",
        "      print(\"You will be paying 10$\")\n",
        "\n",
        "    else:\n",
        "      print(\"You have to pay 15$\")\n",
        "  \n",
        "\n",
        "\n"
      ]
    }
  ]
}