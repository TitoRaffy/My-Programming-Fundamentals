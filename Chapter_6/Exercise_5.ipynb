{
  "nbformat": 4,
  "nbformat_minor": 0,
  "metadata": {
    "colab": {
      "provenance": [],
      "authorship_tag": "ABX9TyOr85ur0mBv7i2YAXyvv0V0",
      "include_colab_link": true
    },
    "kernelspec": {
      "name": "python3",
      "display_name": "Python 3"
    },
    "language_info": {
      "name": "python"
    }
  },
  "cells": [
    {
      "cell_type": "markdown",
      "metadata": {
        "id": "view-in-github",
        "colab_type": "text"
      },
      "source": [
        "<a href=\"https://colab.research.google.com/github/TitoRaffy/My-Programming-Fundamentals/blob/main/Chapter_6/Exercise_5.ipynb\" target=\"_parent\"><img src=\"https://colab.research.google.com/assets/colab-badge.svg\" alt=\"Open In Colab\"/></a>"
      ]
    },
    {
      "cell_type": "code",
      "execution_count": 17,
      "metadata": {
        "colab": {
          "base_uri": "https://localhost:8080/"
        },
        "id": "5MaOz_blPwDV",
        "outputId": "a25ae8de-80c6-4653-8c86-f783d6650f8f"
      },
      "outputs": [
        {
          "output_type": "stream",
          "name": "stdout",
          "text": [
            "Sorry for the inconvenience the Deli is out of Pastramis\n",
            "\n",
            "I Have your BLT Sandwich \n",
            "I Have your Philly Cheese Steak Sandwich \n",
            "I Have your Smoked Meat Sandwich \n",
            "\n",
            "Finished Sandwiches: \n",
            "BLT\n",
            "Philly Cheese Steak\n",
            "Smoked Meat\n"
          ]
        }
      ],
      "source": [
        "# Your ordered sandwiches is listed here\n",
        "sandwich_order = [\"Smoked Meat\", \"Philly Cheese Steak\", \"BLT\", \"Pastrami\", \"Pastrami\", \"Pastrami\"]\n",
        "finished_sandwiches = []\n",
        "\n",
        "# And sadly the pastrami isn't available \n",
        "# Pastrami is removed from the list of sand which orders\n",
        "\n",
        "print(\"Sorry for the inconvenience the Deli is out of Pastramis\\n\")\n",
        "while \"Pastrami\" in sandwich_order:\n",
        "  sandwich_order.remove(\"Pastrami\")\n",
        "\n",
        "while sandwich_order:\n",
        "  current_sandwich = sandwich_order.pop()\n",
        "  print(\"I Have your \" + str(current_sandwich) + \" Sandwich \")\n",
        "  finished_sandwiches.append(current_sandwich)\n",
        "\n",
        "print(\"\\nFinished Sandwiches: \")\n",
        "for sandwich in finished_sandwiches:\n",
        "  print(sandwich)\n",
        "\n"
      ]
    }
  ]
}