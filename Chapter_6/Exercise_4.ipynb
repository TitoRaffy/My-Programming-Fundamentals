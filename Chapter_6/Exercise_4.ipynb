{
  "nbformat": 4,
  "nbformat_minor": 0,
  "metadata": {
    "colab": {
      "provenance": [],
      "authorship_tag": "ABX9TyO7AQ8vmakJ65LuQLEqRtpa",
      "include_colab_link": true
    },
    "kernelspec": {
      "name": "python3",
      "display_name": "Python 3"
    },
    "language_info": {
      "name": "python"
    }
  },
  "cells": [
    {
      "cell_type": "markdown",
      "metadata": {
        "id": "view-in-github",
        "colab_type": "text"
      },
      "source": [
        "<a href=\"https://colab.research.google.com/github/TitoRaffy/My-Programming-Fundamentals/blob/main/Chapter_6/Exercise_4.ipynb\" target=\"_parent\"><img src=\"https://colab.research.google.com/assets/colab-badge.svg\" alt=\"Open In Colab\"/></a>"
      ]
    },
    {
      "cell_type": "code",
      "execution_count": 14,
      "metadata": {
        "colab": {
          "base_uri": "https://localhost:8080/"
        },
        "id": "5MaOz_blPwDV",
        "outputId": "e165c39a-b759-4cee-eb93-06bcbc4ee8ae"
      },
      "outputs": [
        {
          "output_type": "stream",
          "name": "stdout",
          "text": [
            "I Have your BLT Sandwich \n",
            "I Have your Philly Cheese Steak Sandwich \n",
            "I Have your Smoked Meat Sandwich \n",
            "\n",
            "Finished Sandwiches: \n",
            "BLT\n",
            "Philly Cheese Steak\n",
            "Smoked Meat\n"
          ]
        }
      ],
      "source": [
        "# Your ordered sandwhiches will be listed here\n",
        "\n",
        "sandwich_order = [\"Smoked Meat\", \"Philly Cheese Steak\", \"BLT\"]\n",
        "finished_sandwiches = []\n",
        "\n",
        "# And here are the sandwiches that you finished\n",
        "\n",
        "while sandwich_order:\n",
        "  current_sandwich = sandwich_order.pop()\n",
        "  print(\"I Have your \" + str(current_sandwich) + \" Sandwich \")\n",
        "  finished_sandwiches.append(current_sandwich)\n",
        "\n",
        "print(\"\\nFinished Sandwiches: \")\n",
        "for sandwich in finished_sandwiches:\n",
        "  print(sandwich)\n"
      ]
    }
  ]
}