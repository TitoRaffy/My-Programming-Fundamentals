{
  "nbformat": 4,
  "nbformat_minor": 0,
  "metadata": {
    "colab": {
      "provenance": [],
      "authorship_tag": "ABX9TyM7Kxjcl/ovf7vAtOhWz0NQ",
      "include_colab_link": true
    },
    "kernelspec": {
      "name": "python3",
      "display_name": "Python 3"
    },
    "language_info": {
      "name": "python"
    }
  },
  "cells": [
    {
      "cell_type": "markdown",
      "metadata": {
        "id": "view-in-github",
        "colab_type": "text"
      },
      "source": [
        "<a href=\"https://colab.research.google.com/github/TitoRaffy/My-Programming-Fundamentals/blob/main/Chapter_6/Exercise_1.ipynb\" target=\"_parent\"><img src=\"https://colab.research.google.com/assets/colab-badge.svg\" alt=\"Open In Colab\"/></a>"
      ]
    },
    {
      "cell_type": "code",
      "execution_count": 13,
      "metadata": {
        "colab": {
          "base_uri": "https://localhost:8080/"
        },
        "id": "ALLu6gZ8DLts",
        "outputId": "2ecf18ff-8a06-49a1-d391-b53dfd393062"
      },
      "outputs": [
        {
          "name": "stdout",
          "output_type": "stream",
          "text": [
            "Enter Toppings: Pepperoni\n",
            "You have added Pepperoni\n",
            "Enter Toppings: cheese\n",
            "You have added cheese\n",
            "Enter Toppings: quit\n"
          ]
        }
      ],
      "source": [
        "# Here you will be adding different toppings according to your preference\n",
        "\n",
        "# Enter whatever kind of toppings you want!\n",
        "while True: \n",
        "  toppings = input(\"Enter Toppings: \")\n",
        "  if toppings == \"quit\": \n",
        "    break \n",
        "  else:\n",
        "    print(\"You have added \" + toppings)\n",
        "  \n",
        "\n",
        "\n"
      ]
    }
  ]
}