{
  "nbformat": 4,
  "nbformat_minor": 0,
  "metadata": {
    "colab": {
      "provenance": [],
      "authorship_tag": "ABX9TyMD8p8aDNstViZdS6Z8zjQP",
      "include_colab_link": true
    },
    "kernelspec": {
      "name": "python3",
      "display_name": "Python 3"
    },
    "language_info": {
      "name": "python"
    }
  },
  "cells": [
    {
      "cell_type": "markdown",
      "metadata": {
        "id": "view-in-github",
        "colab_type": "text"
      },
      "source": [
        "<a href=\"https://colab.research.google.com/github/TitoRaffy/My-Programming-Fundamentals/blob/main/Chapter_5/Exercise_5.ipynb\" target=\"_parent\"><img src=\"https://colab.research.google.com/assets/colab-badge.svg\" alt=\"Open In Colab\"/></a>"
      ]
    },
    {
      "cell_type": "code",
      "execution_count": 12,
      "metadata": {
        "colab": {
          "base_uri": "https://localhost:8080/"
        },
        "id": "ALLu6gZ8DLts",
        "outputId": "e83038d6-a072-4855-d9a5-321d2cdf8024"
      },
      "outputs": [
        {
          "output_type": "stream",
          "name": "stdout",
          "text": [
            "{'pet': 'dog', 'Owner': 'Raf'}\n",
            "{'pet': 'cat', 'Owner': 'Carl'}\n",
            "{'pet': 'turtle', 'Owner': 'Kristian'}\n"
          ]
        }
      ],
      "source": [
        "# these are the pets and their owners\n",
        "pets = {\"pet\": \"dog\", \"Owner\": \"Raf\"}\n",
        "pets2 = {\"pet\": \"cat\", \"Owner\": \"Carl\"}\n",
        "pets3 = {\"pet\": \"turtle\", \"Owner\": \"Kristian\"}\n",
        "\n",
        "pet_list = [pets, pets2, pets3]\n",
        "# printing the list\n",
        "for pet in pet_list:\n",
        "  print(pet)\n"
      ]
    }
  ]
}