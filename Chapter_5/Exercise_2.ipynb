{
  "nbformat": 4,
  "nbformat_minor": 0,
  "metadata": {
    "colab": {
      "provenance": [],
      "authorship_tag": "ABX9TyPSbKPCHTwkiltvPBArwEYg",
      "include_colab_link": true
    },
    "kernelspec": {
      "name": "python3",
      "display_name": "Python 3"
    },
    "language_info": {
      "name": "python"
    }
  },
  "cells": [
    {
      "cell_type": "markdown",
      "metadata": {
        "id": "view-in-github",
        "colab_type": "text"
      },
      "source": [
        "<a href=\"https://colab.research.google.com/github/TitoRaffy/My-Programming-Fundamentals/blob/main/Chapter_5/Exercise_2.ipynb\" target=\"_parent\"><img src=\"https://colab.research.google.com/assets/colab-badge.svg\" alt=\"Open In Colab\"/></a>"
      ]
    },
    {
      "cell_type": "code",
      "execution_count": 10,
      "metadata": {
        "id": "i9poNv_ISOP0",
        "colab": {
          "base_uri": "https://localhost:8080/"
        },
        "outputId": "815dcb10-4bac-46a8-93e6-de8c9597ac14"
      },
      "outputs": [
        {
          "output_type": "stream",
          "name": "stdout",
          "text": [
            "\n",
            "Ordinal: An ordinal number is a type of number that is used to represent the position or rank of an object or a person.\n",
            "\n",
            "Binary: relating to, composed of, or involving two things.\n",
            "\n",
            "Else: It could mean different or instead.\n",
            "\n",
            "While: during the time that; at the same time.\n",
            "\n",
            "Print: write (text) clearly without joining the letters together\n"
          ]
        }
      ],
      "source": [
        "# definition of 5 different programming words\n",
        "glossary = {\n",
        "    \"Ordinal\": \"An ordinal number is a type of number that is used to represent the position or rank of an object or a person.\",\n",
        "    \"Binary\": \"relating to, composed of, or involving two things.\",\n",
        "    \"Else\": \"It could mean different or instead.\",\n",
        "    \"While\": \"during the time that; at the same time.\",\n",
        "    \"Print\": \"write (text) clearly without joining the letters together\"\n",
        "}\n",
        "word = \"Ordinal\"\n",
        "print(f\"\\n{word.title()}: {glossary[word]}\")\n",
        "\n",
        "word = \"Binary\"\n",
        "print(f\"\\n{word.title()}: {glossary[word]}\")\n",
        "\n",
        "word = \"Else\"\n",
        "print(f\"\\n{word.title()}: {glossary[word]}\")\n",
        "\n",
        "word = \"While\"\n",
        "print(f\"\\n{word.title()}: {glossary[word]}\")\n",
        "\n",
        "word = \"Print\"\n",
        "print(f\"\\n{word.title()}: {glossary[word]}\")\n"
      ]
    }
  ]
}