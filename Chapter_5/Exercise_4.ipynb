{
  "nbformat": 4,
  "nbformat_minor": 0,
  "metadata": {
    "colab": {
      "provenance": [],
      "authorship_tag": "ABX9TyNa1cEekvc8Dq5uwCfcZct1",
      "include_colab_link": true
    },
    "kernelspec": {
      "name": "python3",
      "display_name": "Python 3"
    },
    "language_info": {
      "name": "python"
    }
  },
  "cells": [
    {
      "cell_type": "markdown",
      "metadata": {
        "id": "view-in-github",
        "colab_type": "text"
      },
      "source": [
        "<a href=\"https://colab.research.google.com/github/TitoRaffy/My-Programming-Fundamentals/blob/main/Chapter_5/Exercise_4.ipynb\" target=\"_parent\"><img src=\"https://colab.research.google.com/assets/colab-badge.svg\" alt=\"Open In Colab\"/></a>"
      ]
    },
    {
      "cell_type": "code",
      "execution_count": 10,
      "metadata": {
        "colab": {
          "base_uri": "https://localhost:8080/"
        },
        "id": "ALLu6gZ8DLts",
        "outputId": "2953ec9a-d3b4-424c-a2bb-2c2ffa7a7df1"
      },
      "outputs": [
        {
          "output_type": "stream",
          "name": "stdout",
          "text": [
            "\n",
            "Ordinal()\n",
            "it is a function used to convert a number to its character value.\n",
            "\n",
            "Binary()\n",
            "It converts a number to its binary value.\n",
            "\n",
            "Else\n",
            "If the if condition is not met, the else condition will run instead.\n",
            "\n",
            "While\n",
            "Is basically a loop that remains true if the condition is met.\n",
            "\n",
            "Print()\n",
            "A Function that prints the statement in the terminal.\n",
            "\n",
            "Key\n",
            "this is used in dictionaries, and it is the first\n",
            "\n",
            "Strings\n",
            "It is a data type that stores specific characters\n",
            "\n",
            "In\n",
            "It looks for stuff in the list\n",
            "\n",
            "Integers\n",
            "Its a data type that stores numbers\n",
            "\n",
            "Variables\n",
            "Stores data types\n"
          ]
        }
      ],
      "source": [
        "# These are 3 different rivers that are known all over the world\n",
        "rivers = {\n",
        "    \"The Amazon River\": \"South America\", \n",
        "    \"The Euphrates River\": \"Middle East\", \n",
        "    \"The Delaware River\": \"United States\",\n",
        "}\n",
        "\n",
        "# keys and values are now arranged \n",
        "\n",
        "print(\"sentence: \")\n",
        "for keys, values in rivers.items():\n",
        "  print(values + \"runs through \" + keys)\n",
        "\n",
        "print(\"\\nContinents and Countries: \")\n",
        "for keys in rivers.keys():\n",
        "  print(keys)\n",
        "\n",
        "print(\"\\nRivers: \")\n",
        "for values in rivers.value():\n",
        "  print(values)\n"
      ]
    }
  ]
}