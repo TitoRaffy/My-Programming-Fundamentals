{
  "nbformat": 4,
  "nbformat_minor": 0,
  "metadata": {
    "colab": {
      "provenance": [],
      "authorship_tag": "ABX9TyP57C0LOta6m0vkvvSQbn8m",
      "include_colab_link": true
    },
    "kernelspec": {
      "name": "python3",
      "display_name": "Python 3"
    },
    "language_info": {
      "name": "python"
    }
  },
  "cells": [
    {
      "cell_type": "markdown",
      "metadata": {
        "id": "view-in-github",
        "colab_type": "text"
      },
      "source": [
        "<a href=\"https://colab.research.google.com/github/TitoRaffy/My-Programming-Fundamentals/blob/main/Chapter_5/Exercise_3.ipynb\" target=\"_parent\"><img src=\"https://colab.research.google.com/assets/colab-badge.svg\" alt=\"Open In Colab\"/></a>"
      ]
    },
    {
      "cell_type": "code",
      "execution_count": 8,
      "metadata": {
        "colab": {
          "base_uri": "https://localhost:8080/"
        },
        "id": "ALLu6gZ8DLts",
        "outputId": "c843a473-efcd-448b-a38b-9899e5cb9b40"
      },
      "outputs": [
        {
          "output_type": "stream",
          "name": "stdout",
          "text": [
            "Ordinal\n",
            "An ordinal number is a type of number that is used to represent the position or rank of an object or a person.\n",
            "Binary\n",
            "relating to, composed of, or involving two things.\n",
            "Else\n",
            "It could mean different or instead.\n",
            "While\n",
            "during the time that; at the same time.\n",
            "Print\n",
            "write (text) clearly without joining the letters together\n"
          ]
        }
      ],
      "source": [
        "# definition of 5 different programming words\n",
        "glossary = {\n",
        "    \"Ordinal\": \"An ordinal number is a type of number that is used to represent the position or rank of an object or a person.\",\n",
        "    \"Binary\": \"relating to, composed of, or involving two things.\",\n",
        "    \"Else\": \"It could mean different or instead.\",\n",
        "    \"While\": \"during the time that; at the same time.\",\n",
        "    \"Print\": \"write (text) clearly without joining the letters together\"\n",
        "}\n",
        "\n",
        "for keys, values in glossary.items():\n",
        "  print(str(keys) + \"\\n\" + str(values))\n",
        "\n",
        "# this programming function loops through all the keys and values in this program"
      ]
    }
  ]
}